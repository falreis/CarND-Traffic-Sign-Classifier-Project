{
 "cells": [
  {
   "cell_type": "markdown",
   "metadata": {},
   "source": [
    "# Self-Driving Car Engineer Nanodegree\n",
    "\n",
    "## Deep Learning\n",
    "\n",
    "## Project: Build a Traffic Sign Recognition Classifier\n",
    "\n",
    "In this notebook, a template is provided for you to implement your functionality in stages, which is required to successfully complete this project. If additional code is required that cannot be included in the notebook, be sure that the Python code is successfully imported and included in your submission if necessary. \n",
    "\n",
    "> **Note**: Once you have completed all of the code implementations, you need to finalize your work by exporting the iPython Notebook as an HTML document. Before exporting the notebook to html, all of the code cells need to have been run so that reviewers can see the final implementation and output. You can then export the notebook by using the menu above and navigating to  \\n\",\n",
    "    \"**File -> Download as -> HTML (.html)**. Include the finished document along with this notebook as your submission. \n",
    "\n",
    "In addition to implementing code, there is a writeup to complete. The writeup should be completed in a separate file, which can be either a markdown file or a pdf document. There is a [write up template](https://github.com/udacity/CarND-Traffic-Sign-Classifier-Project/blob/master/writeup_template.md) that can be used to guide the writing process. Completing the code template and writeup template will cover all of the [rubric points](https://review.udacity.com/#!/rubrics/481/view) for this project.\n",
    "\n",
    "The [rubric](https://review.udacity.com/#!/rubrics/481/view) contains \"Stand Out Suggestions\" for enhancing the project beyond the minimum requirements. The stand out suggestions are optional. If you decide to pursue the \"stand out suggestions\", you can include the code in this Ipython notebook and also discuss the results in the writeup file.\n",
    "\n",
    "\n",
    ">**Note:** Code and Markdown cells can be executed using the **Shift + Enter** keyboard shortcut. In addition, Markdown cells can be edited by typically double-clicking the cell to enter edit mode."
   ]
  },
  {
   "cell_type": "markdown",
   "metadata": {},
   "source": [
    "---\n",
    "## Step 0: Load The Data"
   ]
  },
  {
   "cell_type": "code",
   "execution_count": 1,
   "metadata": {},
   "outputs": [
    {
     "name": "stdout",
     "output_type": "stream",
     "text": [
      "Load OK\n"
     ]
    }
   ],
   "source": [
    "# Load pickled data\n",
    "import pickle\n",
    "\n",
    "# TODO: Fill this in based on where you saved the training and testing data\n",
    "\n",
    "training_file = 'traffic-signs-data/train.p'\n",
    "validation_file= 'traffic-signs-data/valid.p'\n",
    "testing_file = 'traffic-signs-data/test.p'\n",
    "\n",
    "with open(training_file, mode='rb') as f:\n",
    "    train = pickle.load(f)\n",
    "with open(validation_file, mode='rb') as f:\n",
    "    valid = pickle.load(f)\n",
    "with open(testing_file, mode='rb') as f:\n",
    "    test = pickle.load(f)\n",
    "    \n",
    "X_train, y_train = train['features'], train['labels']\n",
    "X_valid, y_valid = valid['features'], valid['labels']\n",
    "X_test, y_test = test['features'], test['labels']\n",
    "\n",
    "print('Load OK')"
   ]
  },
  {
   "cell_type": "code",
   "execution_count": 2,
   "metadata": {},
   "outputs": [
    {
     "name": "stdout",
     "output_type": "stream",
     "text": [
      "Image and Index OK\n"
     ]
    }
   ],
   "source": [
    "import random\n",
    "import numpy as np\n",
    "\n",
    "index = random.randint(0, len(X_train))\n",
    "image = X_train[index]\n",
    "\n",
    "print('Image and Index OK')"
   ]
  },
  {
   "cell_type": "markdown",
   "metadata": {},
   "source": [
    "---\n",
    "\n",
    "## Step 1: Dataset Summary & Exploration\n",
    "\n",
    "The pickled data is a dictionary with 4 key/value pairs:\n",
    "\n",
    "- `'features'` is a 4D array containing raw pixel data of the traffic sign images, (num examples, width, height, channels).\n",
    "- `'labels'` is a 1D array containing the label/class id of the traffic sign. The file `signnames.csv` contains id -> name mappings for each id.\n",
    "- `'sizes'` is a list containing tuples, (width, height) representing the original width and height the image.\n",
    "- `'coords'` is a list containing tuples, (x1, y1, x2, y2) representing coordinates of a bounding box around the sign in the image. **THESE COORDINATES ASSUME THE ORIGINAL IMAGE. THE PICKLED DATA CONTAINS RESIZED VERSIONS (32 by 32) OF THESE IMAGES**\n",
    "\n",
    "Complete the basic data summary below. Use python, numpy and/or pandas methods to calculate the data summary rather than hard coding the results. For example, the [pandas shape method](http://pandas.pydata.org/pandas-docs/stable/generated/pandas.DataFrame.shape.html) might be useful for calculating some of the summary results. "
   ]
  },
  {
   "cell_type": "markdown",
   "metadata": {},
   "source": [
    "### Provide a Basic Summary of the Data Set Using Python, Numpy and/or Pandas"
   ]
  },
  {
   "cell_type": "code",
   "execution_count": 3,
   "metadata": {},
   "outputs": [
    {
     "name": "stdout",
     "output_type": "stream",
     "text": [
      "Number of training examples = 34799\n",
      "Number of testing examples = 12630\n",
      "Image data shape = (32, 32, 3)\n",
      "Number of classes = 43\n"
     ]
    }
   ],
   "source": [
    "### Replace each question mark with the appropriate value. \n",
    "### Use python, pandas or numpy methods rather than hard coding the results\n",
    "\n",
    "# TODO: Number of training examples\n",
    "n_train = len(X_train)\n",
    "\n",
    "# TODO: Number of validation examples\n",
    "n_validation = len(X_valid)\n",
    "\n",
    "# TODO: Number of testing examples.\n",
    "n_test = len(X_test)\n",
    "\n",
    "# TODO: What's the shape of an traffic sign image?\n",
    "image_shape = image.shape\n",
    "\n",
    "# TODO: How many unique classes/labels there are in the dataset.\n",
    "n_classes = len(np.unique(y_train))\n",
    "\n",
    "print(\"Number of training examples =\", n_train)\n",
    "print(\"Number of testing examples =\", n_test)\n",
    "print(\"Image data shape =\", image_shape)\n",
    "print(\"Number of classes =\", n_classes)"
   ]
  },
  {
   "cell_type": "code",
   "execution_count": 48,
   "metadata": {},
   "outputs": [
    {
     "data": {
      "image/png": "[encoded data removed]",
      "text/plain": [
       "<matplotlib.figure.Figure at 0x7fa26c851400>"
      ]
     },
     "metadata": {},
     "output_type": "display_data"
    }
   ],
   "source": [
    "import pandas as pd\n",
    "\n",
    "classes = pd.Series(y_train)\n",
    "info = classes.value_counts()\n",
    "\n",
    "labels = []\n",
    "sizes = []\n",
    "explode = []\n",
    "for i in range(0,n_classes):\n",
    "    labels.append(i)\n",
    "    sizes.append(info[i])\n",
    "    explode.append(1.5)\n",
    "\n",
    "'''\n",
    "plt.rcdefaults()\n",
    "fig, ax = plt.subplots()\n",
    "\n",
    "# Example data\n",
    "people = classes.value_counts()\n",
    "y_pos = np.arange(n_classes)\n",
    "performance = 3 + 10 * np.random.rand(len(people))\n",
    "error = np.random.rand(len(people))\n",
    "\n",
    "ax.barh(y_pos, performance, xerr=error, align='center', color='green', ecolor='black')\n",
    "ax.set_yticks(y_pos)\n",
    "ax.set_yticklabels(people)\n",
    "#ax.invert_yaxis()  # labels read top-to-bottom\n",
    "ax.set_xlabel('Performance')\n",
    "ax.set_title('How fast do you want to go today?')\n",
    "\n",
    "plt.show()\n",
    "'''\n",
    "# Pie chart, where the slices will be ordered and plotted counter-clockwise:\n",
    "#labels = 'Frogs', 'Hogs', 'Dogs', 'Logs'\n",
    "#sizes = [15, 30, 45, 10]\n",
    "#explode = (0, 0.1, 0, 0)  # only \"explode\" the 2nd slice (i.e. 'Hogs')\n",
    "\n",
    "fig1, ax1 = plt.subplots()\n",
    "ax1.pie(sizes, explode=explode, labels=labels, autopct='%1.1f%%', shadow=False, startangle=90)\n",
    "ax1.axis('equal')  # Equal aspect ratio ensures that pie is drawn as a circle.\n",
    "\n",
    "plt.show()"
   ]
  },
  {
   "cell_type": "markdown",
   "metadata": {},
   "source": [
    "### Include an exploratory visualization of the dataset"
   ]
  },
  {
   "cell_type": "markdown",
   "metadata": {},
   "source": [
    "Visualize the German Traffic Signs Dataset using the pickled file(s). This is open ended, suggestions include: plotting traffic sign images, plotting the count of each sign, etc. \n",
    "\n",
    "The [Matplotlib](http://matplotlib.org/) [examples](http://matplotlib.org/examples/index.html) and [gallery](http://matplotlib.org/gallery.html) pages are a great resource for doing visualizations in Python.\n",
    "\n",
    "**NOTE:** It's recommended you start with something simple first. If you wish to do more, come back to it after you've completed the rest of the sections. It can be interesting to look at the distribution of classes in the training, validation and test set. Is the distribution the same? Are there more examples of some classes than others?"
   ]
  },
  {
   "cell_type": "code",
   "execution_count": 4,
   "metadata": {},
   "outputs": [
    {
     "name": "stdout",
     "output_type": "stream",
     "text": [
      "20\n"
     ]
    },
    {
     "data": {
      "image/png": "[encoded data removed]",
      "text/plain": [
       "<matplotlib.figure.Figure at 0x7fa2f8201940>"
      ]
     },
     "metadata": {},
     "output_type": "display_data"
    }
   ],
   "source": [
    "### Data exploration visualization code goes here.\n",
    "### Feel free to use as many code cells as needed.\n",
    "import matplotlib.pyplot as plt\n",
    "# Visualizations will be shown in the notebook.\n",
    "%matplotlib inline\n",
    "\n",
    "plt.figure(figsize=(2,2))\n",
    "plt.imshow(image)\n",
    "print(y_train[index])"
   ]
  },
  {
   "cell_type": "markdown",
   "metadata": {},
   "source": [
    "----\n",
    "\n",
    "## Step 2: Design and Test a Model Architecture\n",
    "\n",
    "Design and implement a deep learning model that learns to recognize traffic signs. Train and test your model on the [German Traffic Sign Dataset](http://benchmark.ini.rub.de/?section=gtsrb&subsection=dataset).\n",
    "\n",
    "The LeNet-5 implementation shown in the [classroom](https://classroom.udacity.com/nanodegrees/nd013/parts/fbf77062-5703-404e-b60c-95b78b2f3f9e/modules/6df7ae49-c61c-4bb2-a23e-6527e69209ec/lessons/601ae704-1035-4287-8b11-e2c2716217ad/concepts/d4aca031-508f-4e0b-b493-e7b706120f81) at the end of the CNN lesson is a solid starting point. You'll have to change the number of classes and possibly the preprocessing, but aside from that it's plug and play! \n",
    "\n",
    "With the LeNet-5 solution from the lecture, you should expect a validation set accuracy of about 0.89. To meet specifications, the validation set accuracy will need to be at least 0.93. It is possible to get an even higher accuracy, but 0.93 is the minimum for a successful project submission. \n",
    "\n",
    "There are various aspects to consider when thinking about this problem:\n",
    "\n",
    "- Neural network architecture (is the network over or underfitting?)\n",
    "- Play around preprocessing techniques (normalization, rgb to grayscale, etc)\n",
    "- Number of examples per label (some have more than others).\n",
    "- Generate fake data.\n",
    "\n",
    "Here is an example of a [published baseline model on this problem](http://yann.lecun.com/exdb/publis/pdf/sermanet-ijcnn-11.pdf). It's not required to be familiar with the approach used in the paper but, it's good practice to try to read papers like these."
   ]
  },
  {
   "cell_type": "markdown",
   "metadata": {},
   "source": [
    "### Pre-process the Data Set (normalization, grayscale, etc.)"
   ]
  },
  {
   "cell_type": "markdown",
   "metadata": {},
   "source": [
    "Minimally, the image data should be normalized so that the data has mean zero and equal variance. For image data, `(pixel - 128)/ 128` is a quick way to approximately normalize the data and can be used in this project. \n",
    "\n",
    "Other pre-processing steps are optional. You can try different techniques to see if it improves performance. \n",
    "\n",
    "Use the code cell (or multiple code cells, if necessary) to implement the first step of your project."
   ]
  },
  {
   "cell_type": "code",
   "execution_count": 5,
   "metadata": {},
   "outputs": [
    {
     "name": "stdout",
     "output_type": "stream",
     "text": [
      "Pre process OK\n"
     ]
    }
   ],
   "source": [
    "### Preprocess the data here. It is required to normalize the data. Other preprocessing steps could include \n",
    "### converting to grayscale, etc.\n",
    "### Feel free to use as many code cells as needed.\n",
    "\n",
    "#shuffle data\n",
    "from sklearn.utils import shuffle\n",
    "from sklearn import preprocessing\n",
    "from skimage import color\n",
    "from numpy import array\n",
    "\n",
    "#X_train, y_train = shuffle(X_train, y_train)\n",
    "\n",
    "#normalize data\n",
    "def normalize(image_data):\n",
    "    avg = np.average(image_data)\n",
    "    return image_data - avg\n",
    "    #return (image_data - 128) / 128)\n",
    "    #eturn preprocessing.normalize(image_data)\n",
    "\n",
    "def rgb2gray(rgb):\n",
    "    #return np.dot(rgb, [0.299, 0.587, 0.114])\n",
    "    return np.average(rgb, weights=[0.299, 0.587, 0.114], axis=2)\n",
    "\n",
    "def normalize_grayscale(image):\n",
    "    return normalize(image)\n",
    "    #return normalize(rgb2gray(image))\n",
    "\n",
    "'''\n",
    "print(image.shape)\n",
    "print(normalize(image).shape)\n",
    "print(rgb2gray(image).shape)\n",
    "''' \n",
    "print('Pre process OK')"
   ]
  },
  {
   "cell_type": "markdown",
   "metadata": {},
   "source": [
    "### Model Architecture"
   ]
  },
  {
   "cell_type": "code",
   "execution_count": 6,
   "metadata": {},
   "outputs": [
    {
     "name": "stdout",
     "output_type": "stream",
     "text": [
      "LeNet OK\n"
     ]
    }
   ],
   "source": [
    "### Define your architecture here.\n",
    "### Feel free to use as many code cells as needed.\n",
    "\n",
    "import tensorflow as tf\n",
    "from tensorflow.contrib.layers import flatten\n",
    "\n",
    "EPOCHS = 20\n",
    "BATCH_SIZE = 128\n",
    "FILTER_CHANNELS = 3\n",
    "\n",
    "def LeNet(x):    \n",
    "    # Arguments used for tf.truncated_normal, randomly defines variables for the weights and biases for each layer\n",
    "    mu = 0\n",
    "    sigma = 0.05\n",
    "    \n",
    "    #DEFINE: filter size width and height\n",
    "    filter_size_width = 5\n",
    "    filter_size_height = 5\n",
    "    \n",
    "    #DEFINE: weights, biases and strides\n",
    "    #weight = tf.Variable(tf.truncated_normal([filter_size_height, filter_size_width, color_channels, k_output]))\n",
    "    weights = {\n",
    "        'cv1w': tf.Variable(tf.truncated_normal(\n",
    "                    shape=(filter_size_width, filter_size_width, FILTER_CHANNELS, 6), mean = mu, stddev = sigma)),\n",
    "        'cv2w': tf.Variable(tf.truncated_normal(\n",
    "                    shape=(filter_size_width, filter_size_width, 6, 16), mean = mu, stddev = sigma)),\n",
    "        'cv3w': tf.Variable(tf.truncated_normal(shape=(400,120), mean = mu, stddev = sigma)),\n",
    "        'cv4w': tf.Variable(tf.truncated_normal(shape=(120,84), mean = mu, stddev = sigma)),\n",
    "        'cv5w': tf.Variable(tf.truncated_normal(shape=(84,43), mean = mu, stddev = sigma)),\n",
    "    }\n",
    "    biases = {\n",
    "        'cv1b': tf.Variable(tf.zeros([6])),\n",
    "        'cv2b': tf.Variable(tf.zeros([16])),\n",
    "        'cv3b': tf.Variable(tf.zeros([120])),\n",
    "        'cv4b': tf.Variable(tf.zeros([84])),\n",
    "        'cv5b': tf.Variable(tf.zeros([43]))\n",
    "    }\n",
    "    strides = {\n",
    "        'cv1s': [1,1,1,1],\n",
    "        'cv1p': [1,2,2,1],\n",
    "        'cv2s': [1,1,1,1],\n",
    "        'cv2p': [1,2,2,1]\n",
    "    }\n",
    "    \n",
    "    # TODO: Layer 1: Convolutional. Input = 32x32x1. Output = 28x28x6.\n",
    "    #conv2d(input, filter, strides, padding, use_cudnn_on_gpu=None, data_format=None, name=None)\n",
    "    #  input: A Tensor. Must be one of the following types: half, float32.\n",
    "    #  filter: A Tensor. Same type as input.  4-D tensor of shape [filter_height, filter_width, in_channels, out_channels]\n",
    "    #  strides: A list of ints. 1-D tensor of length 4. The stride of the sliding window for each dimension of input.\n",
    "    #  padding: A string from: \"SAME\", \"VALID\". The type of padding algorithm to use.\n",
    "    #  use_cudnn_on_gpu: An optional bool. Defaults to True.\n",
    "    #  data_format: An optional string from: \"NHWC\", \"NCHW\". Defaults to \"NHWC\".\n",
    "    #  name: A name for the operation (optional).\n",
    "    conv1 = tf.nn.conv2d(input=x, filter=weights['cv1w'], strides=strides['cv1s'], padding='VALID') + biases['cv1b']\n",
    "    \n",
    "    # TODO: Activation.\n",
    "    conv1 = tf.nn.relu(conv1)\n",
    "    \n",
    "    # TODO: Pooling. Input = 28x28x6. Output = 14x14x6.\n",
    "    #max_pool(value, ksize, strides, padding, data_format='NHWC', name=None)\n",
    "    #  value: A 4-D Tensor with shape [batch, height, width, channels] and type tf.float32.\n",
    "    #  ksize: A list of ints that has length >= 4. The size of the window for each dimension of the input tensor.\n",
    "    #  strides: A list of ints that has length >= 4. The stride of the sliding window for each dimension.\n",
    "    #  padding: A string, either 'VALID' or 'SAME'. The padding algorithm. See the comment here\n",
    "    #  data_format: A string. 'NHWC' and 'NCHW' are supported.\n",
    "    #  name: Optional name for the operation.\n",
    "    conv1 = tf.nn.max_pool(value=conv1, ksize=[1, 2, 2, 1], strides=strides['cv1p'], padding='VALID')\n",
    "\n",
    "    # TODO: Layer 2: Convolutional. Output = 10x10x16.\n",
    "    # TODO: Activation.\n",
    "    # TODO: Pooling. Input = 10x10x16. Output = 5x5x16.\n",
    "    # TODO: Flatten. Input = 5x5x16. Output = 400.\n",
    "    conv2 = tf.nn.conv2d(input=conv1, filter=weights['cv2w'], strides=strides['cv2s'], padding='VALID') + biases['cv2b']\n",
    "    conv2 = tf.nn.relu(conv2)\n",
    "    conv2 = tf.nn.max_pool(value=conv2, ksize=[1, 2, 2, 1], strides=strides['cv1p'], padding='VALID')\n",
    "    flcv2 = flatten(conv2)\n",
    "\n",
    "    # TODO: Layer 3: Fully Connected. Input = 400. Output = 120.\n",
    "    # TODO: Activation.\n",
    "    flcv3 = tf.matmul(flcv2, weights['cv3w']) + biases['cv3b']\n",
    "    flcv3 = tf.nn.relu(flcv3)\n",
    "\n",
    "    # TODO: Layer 4: Fully Connected. Input = 120. Output = 84.\n",
    "    # TODO: Activation.\n",
    "    flcv4 = tf.matmul(flcv3, weights['cv4w']) + biases['cv4b']\n",
    "    flcv4 = tf.nn.relu(flcv4)\n",
    "\n",
    "    # TODO: Layer 5: Fully Connected. Input = 84. Output = 10.\n",
    "    return tf.matmul(flcv4, weights['cv5w']) + biases['cv5b'] #logits\n",
    "    #return logits\n",
    "\n",
    "print('LeNet OK')"
   ]
  },
  {
   "cell_type": "code",
   "execution_count": 7,
   "metadata": {},
   "outputs": [
    {
     "name": "stdout",
     "output_type": "stream",
     "text": [
      "One-hot OK\n"
     ]
    }
   ],
   "source": [
    "#features and labels\n",
    "x = tf.placeholder(tf.float32, (None, 32, 32, FILTER_CHANNELS))\n",
    "y = tf.placeholder(tf.int32, (None))\n",
    "one_hot_y = tf.one_hot(y, 43)\n",
    "\n",
    "print('One-hot OK')"
   ]
  },
  {
   "cell_type": "markdown",
   "metadata": {},
   "source": [
    "### Train, Validate and Test the Model"
   ]
  },
  {
   "cell_type": "markdown",
   "metadata": {},
   "source": [
    "A validation set can be used to assess how well the model is performing. A low accuracy on the training and validation\n",
    "sets imply underfitting. A high accuracy on the training set but low accuracy on the validation set implies overfitting."
   ]
  },
  {
   "cell_type": "code",
   "execution_count": 8,
   "metadata": {},
   "outputs": [
    {
     "name": "stdout",
     "output_type": "stream",
     "text": [
      "Rate OK\n"
     ]
    }
   ],
   "source": [
    "### Train your model here.\n",
    "rate = 0.002\n",
    "\n",
    "logits = LeNet(x)\n",
    "cross_entropy = tf.nn.softmax_cross_entropy_with_logits(labels=one_hot_y, logits=logits)\n",
    "loss_operation = tf.reduce_mean(cross_entropy)\n",
    "optimizer = tf.train.AdamOptimizer(learning_rate = rate)\n",
    "training_operation = optimizer.minimize(loss_operation)\n",
    "\n",
    "print('Rate OK')"
   ]
  },
  {
   "cell_type": "code",
   "execution_count": 9,
   "metadata": {},
   "outputs": [
    {
     "name": "stdout",
     "output_type": "stream",
     "text": [
      "Evaluate OK\n"
     ]
    }
   ],
   "source": [
    "### Calculate and report the accuracy on the training and validation set.\n",
    "correct_prediction = tf.equal(tf.argmax(logits, 1), tf.argmax(one_hot_y, 1))\n",
    "accuracy_operation = tf.reduce_mean(tf.cast(correct_prediction, tf.float32))\n",
    "saver = tf.train.Saver()\n",
    "\n",
    "def evaluate(X_data, y_data):\n",
    "    num_examples = len(X_data)\n",
    "    total_accuracy = 0\n",
    "    sess = tf.get_default_session()\n",
    "    for offset in range(0, num_examples, BATCH_SIZE):\n",
    "    #or offset in range(0, 1, BATCH_SIZE):\n",
    "        batch_x, batch_y = normalize_grayscale(X_data[offset:offset+BATCH_SIZE]), y_data[offset:offset+BATCH_SIZE]\n",
    "        accuracy = sess.run(accuracy_operation, feed_dict={x: batch_x, y: batch_y})\n",
    "        total_accuracy += (accuracy * len(batch_x))\n",
    "    return total_accuracy / num_examples\n",
    "\n",
    "print('Evaluate OK')"
   ]
  },
  {
   "cell_type": "code",
   "execution_count": 10,
   "metadata": {},
   "outputs": [
    {
     "name": "stdout",
     "output_type": "stream",
     "text": [
      "Training...\n",
      "\n",
      "EPOCH 1 ...\n",
      "Validation Accuracy = 0.860\n",
      "\n",
      "EPOCH 2 ...\n",
      "Validation Accuracy = 0.914\n",
      "\n",
      "EPOCH 3 ...\n",
      "Validation Accuracy = 0.898\n",
      "\n",
      "EPOCH 4 ...\n",
      "Validation Accuracy = 0.910\n",
      "\n",
      "EPOCH 5 ...\n",
      "Validation Accuracy = 0.915\n",
      "\n",
      "EPOCH 6 ...\n",
      "Validation Accuracy = 0.920\n",
      "\n",
      "EPOCH 7 ...\n",
      "Validation Accuracy = 0.910\n",
      "\n",
      "EPOCH 8 ...\n",
      "Validation Accuracy = 0.914\n",
      "\n",
      "EPOCH 9 ...\n",
      "Validation Accuracy = 0.905\n",
      "\n",
      "EPOCH 10 ...\n",
      "Validation Accuracy = 0.916\n",
      "\n",
      "EPOCH 11 ...\n",
      "Validation Accuracy = 0.927\n",
      "\n",
      "EPOCH 12 ...\n",
      "Validation Accuracy = 0.932\n",
      "\n",
      "EPOCH 13 ...\n",
      "Validation Accuracy = 0.919\n",
      "\n",
      "EPOCH 14 ...\n",
      "Validation Accuracy = 0.931\n",
      "\n",
      "EPOCH 15 ...\n",
      "Validation Accuracy = 0.911\n",
      "\n",
      "EPOCH 16 ...\n",
      "Validation Accuracy = 0.912\n",
      "\n",
      "EPOCH 17 ...\n",
      "Validation Accuracy = 0.930\n",
      "\n",
      "EPOCH 18 ...\n",
      "Validation Accuracy = 0.930\n",
      "\n",
      "EPOCH 19 ...\n",
      "Validation Accuracy = 0.930\n",
      "\n",
      "EPOCH 20 ...\n",
      "Validation Accuracy = 0.933\n",
      "\n",
      "Model saved\n"
     ]
    }
   ],
   "source": [
    "### Once a final model architecture is selected, \n",
    "### the accuracy on the test set should be calculated and reported as well.\n",
    "### Feel free to use as many code cells as needed.\n",
    "\n",
    "# train the model\n",
    "with tf.Session() as sess:\n",
    "    sess.run(tf.global_variables_initializer())\n",
    "    num_examples = len(X_train)\n",
    "    \n",
    "    print(\"Training...\")\n",
    "    print()\n",
    "    for i in range(EPOCHS):\n",
    "        X_train, y_train = shuffle(X_train, y_train)\n",
    "        for offset in range(0, num_examples, BATCH_SIZE):\n",
    "            end = offset + BATCH_SIZE\n",
    "            batch_x, batch_y = normalize_grayscale(X_train[offset:end]), y_train[offset:end]\n",
    "            sess.run(training_operation, feed_dict={x: batch_x, y: batch_y})\n",
    "            \n",
    "        validation_accuracy = evaluate(X_valid, y_valid)\n",
    "        print(\"EPOCH {} ...\".format(i+1))\n",
    "        print(\"Validation Accuracy = {:.3f}\".format(validation_accuracy))\n",
    "        print()\n",
    "        \n",
    "    saver.save(sess, './traffic-sign-classif')\n",
    "    print(\"Model saved\")"
   ]
  },
  {
   "cell_type": "code",
   "execution_count": 11,
   "metadata": {},
   "outputs": [
    {
     "name": "stdout",
     "output_type": "stream",
     "text": [
      "Test Accuracy = 0.917\n"
     ]
    }
   ],
   "source": [
    "#evaluate model\n",
    "with tf.Session() as sess:\n",
    "    saver.restore(sess, tf.train.latest_checkpoint('.'))\n",
    "\n",
    "    test_accuracy = evaluate(X_test, y_test)\n",
    "    print(\"Test Accuracy = {:.3f}\".format(test_accuracy))"
   ]
  },
  {
   "cell_type": "markdown",
   "metadata": {},
   "source": [
    "---\n",
    "\n",
    "## Step 3: Test a Model on New Images\n",
    "\n",
    "To give yourself more insight into how your model is working, download at least five pictures of German traffic signs from the web and use your model to predict the traffic sign type.\n",
    "\n",
    "You may find `signnames.csv` useful as it contains mappings from the class id (integer) to the actual sign name."
   ]
  },
  {
   "cell_type": "markdown",
   "metadata": {},
   "source": [
    "### Load and Output the Images"
   ]
  },
  {
   "cell_type": "code",
   "execution_count": 12,
   "metadata": {
    "scrolled": true
   },
   "outputs": [
    {
     "name": "stdout",
     "output_type": "stream",
     "text": [
      "Load OK\n"
     ]
    },
    {
     "data": {
      "image/png": "[encoded data removed]",
      "text/plain": [
       "<matplotlib.figure.Figure at 0x7fa287421860>"
      ]
     },
     "metadata": {},
     "output_type": "display_data"
    },
    {
     "data": {
      "image/png": "[encoded data removed]",
      "text/plain": [
       "<matplotlib.figure.Figure at 0x7fa2842ab208>"
      ]
     },
     "metadata": {},
     "output_type": "display_data"
    },
    {
     "data": {
      "image/png": "[encoded data removed]",
      "text/plain": [
       "<matplotlib.figure.Figure at 0x7fa284270f60>"
      ]
     },
     "metadata": {},
     "output_type": "display_data"
    },
    {
     "data": {
      "image/png": "[encoded data removed]",
      "text/plain": [
       "<matplotlib.figure.Figure at 0x7fa2841c9358>"
      ]
     },
     "metadata": {},
     "output_type": "display_data"
    },
    {
     "data": {
      "image/png": "[encoded data removed]",
      "text/plain": [
       "<matplotlib.figure.Figure at 0x7fa284194208>"
      ]
     },
     "metadata": {},
     "output_type": "display_data"
    },
    {
     "data": {
      "image/png": "[encoded data removed]",
      "text/plain": [
       "<matplotlib.figure.Figure at 0x7fa2841636d8>"
      ]
     },
     "metadata": {},
     "output_type": "display_data"
    },
    {
     "data": {
      "image/png": "[encoded data removed]",
      "text/plain": [
       "<matplotlib.figure.Figure at 0x7fa28412f470>"
      ]
     },
     "metadata": {},
     "output_type": "display_data"
    },
    {
     "data": {
      "image/png": "[encoded data removed]",
      "text/plain": [
       "<matplotlib.figure.Figure at 0x7fa284082940>"
      ]
     },
     "metadata": {},
     "output_type": "display_data"
    },
    {
     "data": {
      "image/png": "[encoded data removed]",
      "text/plain": [
       "<matplotlib.figure.Figure at 0x7fa28404a6d8>"
      ]
     },
     "metadata": {},
     "output_type": "display_data"
    },
    {
     "data": {
      "image/png": "[encoded data removed]",
      "text/plain": [
       "<matplotlib.figure.Figure at 0x7fa26cfd7ba8>"
      ]
     },
     "metadata": {},
     "output_type": "display_data"
    }
   ],
   "source": [
    "### Load the images and plot them here.\n",
    "### Feel free to use as many code cells as needed.\n",
    "from scipy.misc import imread\n",
    "\n",
    "y_german = [16., 1., 38., 33., 11., 38., 18., 12., 25., 35.]\n",
    "X_german = []\n",
    "\n",
    "for i in range(0,10):\n",
    "    image_file = 'german-traffic-signs/0000' + str(i) + '.ppm'\n",
    "\n",
    "    with open(image_file, mode='rb') as f:\n",
    "        image = imread(image_file)\n",
    "    \n",
    "    X_german.append(normalize_grayscale(image))\n",
    "    plt.figure(figsize=(2,2))\n",
    "    plt.imshow(image)\n",
    "\n",
    "print('Load OK')"
   ]
  },
  {
   "cell_type": "markdown",
   "metadata": {},
   "source": [
    "### Predict the Sign Type for Each Image"
   ]
  },
  {
   "cell_type": "code",
   "execution_count": 13,
   "metadata": {},
   "outputs": [
    {
     "name": "stdout",
     "output_type": "stream",
     "text": [
      "Eval New Images OK\n"
     ]
    }
   ],
   "source": [
    "new_img_prediction = tf.equal(tf.argmax(logits, 1), tf.argmax(one_hot_y, 1))\n",
    "new_acc_operation = tf.reduce_mean(tf.cast(new_img_prediction, tf.float32))\n",
    "saver = tf.train.Saver()\n",
    "\n",
    "def eval_new_imgs(X_data, y_data):\n",
    "    num_examples = len(X_data)\n",
    "    total_accuracy = 0\n",
    "    sess = tf.get_default_session()\n",
    "    for offset in range(0, num_examples, BATCH_SIZE):\n",
    "        batch_x, batch_y = X_data[offset:offset+BATCH_SIZE], y_data[offset:offset+BATCH_SIZE]\n",
    "        accuracy = sess.run(new_acc_operation, feed_dict={x: batch_x, y: batch_y})\n",
    "        total_accuracy += (accuracy * len(batch_x))\n",
    "    return total_accuracy / num_examples\n",
    "\n",
    "print('Eval New Images OK')"
   ]
  },
  {
   "cell_type": "code",
   "execution_count": 14,
   "metadata": {},
   "outputs": [
    {
     "name": "stdout",
     "output_type": "stream",
     "text": [
      "Test Accuracy OK\n"
     ]
    }
   ],
   "source": [
    "### Run the predictions here and use the model to output the prediction for each image.\n",
    "### Make sure to pre-process the images with the same pre-processing pipeline used earlier.\n",
    "### Feel free to use as many code cells as needed.\n",
    "with tf.Session() as sess:\n",
    "    saver.restore(sess, tf.train.latest_checkpoint('.'))\n",
    "    test_accuracy = eval_new_imgs(X_german, y_german)\n",
    "\n",
    "print('Test Accuracy OK')"
   ]
  },
  {
   "cell_type": "markdown",
   "metadata": {},
   "source": [
    "### Analyze Performance"
   ]
  },
  {
   "cell_type": "code",
   "execution_count": 15,
   "metadata": {},
   "outputs": [
    {
     "name": "stdout",
     "output_type": "stream",
     "text": [
      "Test Accuracy = 1.000\n"
     ]
    }
   ],
   "source": [
    "### Calculate the accuracy for these 5 new images. \n",
    "### For example, if the model predicted 1 out of 5 signs correctly, it's 20% accurate on these new images.\n",
    "print(\"Test Accuracy = {:.3f}\".format(test_accuracy))"
   ]
  },
  {
   "cell_type": "markdown",
   "metadata": {},
   "source": [
    "### Output Top 5 Softmax Probabilities For Each Image Found on the Web"
   ]
  },
  {
   "cell_type": "markdown",
   "metadata": {},
   "source": [
    "For each of the new images, print out the model's softmax probabilities to show the **certainty** of the model's predictions (limit the output to the top 5 probabilities for each image). [`tf.nn.top_k`](https://www.tensorflow.org/versions/r0.12/api_docs/python/nn.html#top_k) could prove helpful here. \n",
    "\n",
    "The example below demonstrates how tf.nn.top_k can be used to find the top k predictions for each image.\n",
    "\n",
    "`tf.nn.top_k` will return the values and indices (class ids) of the top k predictions. So if k=3, for each sign, it'll return the 3 largest probabilities (out of a possible 43) and the correspoding class ids.\n",
    "\n",
    "Take this numpy array as an example. The values in the array represent predictions. The array contains softmax probabilities for five candidate images with six possible classes. `tf.nn.top_k` is used to choose the three classes with the highest probability:\n",
    "\n",
    "```\n",
    "# (5, 6) array\n",
    "a = np.array([[ 0.24879643,  0.07032244,  0.12641572,  0.34763842,  0.07893497,\n",
    "         0.12789202],\n",
    "       [ 0.28086119,  0.27569815,  0.08594638,  0.0178669 ,  0.18063401,\n",
    "         0.15899337],\n",
    "       [ 0.26076848,  0.23664738,  0.08020603,  0.07001922,  0.1134371 ,\n",
    "         0.23892179],\n",
    "       [ 0.11943333,  0.29198961,  0.02605103,  0.26234032,  0.1351348 ,\n",
    "         0.16505091],\n",
    "       [ 0.09561176,  0.34396535,  0.0643941 ,  0.16240774,  0.24206137,\n",
    "         0.09155967]])\n",
    "```\n",
    "\n",
    "Running it through `sess.run(tf.nn.top_k(tf.constant(a), k=3))` produces:\n",
    "\n",
    "```\n",
    "TopKV2(values=array([[ 0.34763842,  0.24879643,  0.12789202],\n",
    "       [ 0.28086119,  0.27569815,  0.18063401],\n",
    "       [ 0.26076848,  0.23892179,  0.23664738],\n",
    "       [ 0.29198961,  0.26234032,  0.16505091],\n",
    "       [ 0.34396535,  0.24206137,  0.16240774]]), indices=array([[3, 0, 5],\n",
    "       [0, 1, 4],\n",
    "       [0, 5, 1],\n",
    "       [1, 3, 5],\n",
    "       [1, 4, 3]], dtype=int32))\n",
    "```\n",
    "\n",
    "Looking just at the first row we get `[ 0.34763842,  0.24879643,  0.12789202]`, you can confirm these are the 3 largest probabilities in `a`. You'll also notice `[3, 0, 5]` are the corresponding indices."
   ]
  },
  {
   "cell_type": "code",
   "execution_count": 16,
   "metadata": {},
   "outputs": [
    {
     "name": "stdout",
     "output_type": "stream",
     "text": [
      "Print top_k data\n",
      "Image  0 : \n",
      "[[[ 64.6875  29.6875   6.6875]\n",
      "  [ 61.6875  27.6875   6.6875]\n",
      "  [ 62.6875  28.6875   9.6875]\n",
      "  ..., \n",
      "  [ 31.6875   3.6875 -13.3125]\n",
      "  [ 36.6875  10.6875 -13.3125]\n",
      "  [ 18.6875  -7.3125 -26.3125]]\n",
      "\n",
      " [[ 66.6875  32.6875   5.6875]\n",
      "  [ 64.6875  30.6875   5.6875]\n",
      "  [ 65.6875  32.6875   8.6875]\n",
      "  ..., \n",
      "  [ 67.6875  33.6875   9.6875]\n",
      "  [ 63.6875  31.6875  10.6875]\n",
      "  [ 60.6875  29.6875  10.6875]]\n",
      "\n",
      " [[ 64.6875  31.6875   7.6875]\n",
      "  [ 65.6875  32.6875   7.6875]\n",
      "  [ 62.6875  30.6875   3.6875]\n",
      "  ..., \n",
      "  [ 70.6875  34.6875  10.6875]\n",
      "  [ 69.6875  34.6875  12.6875]\n",
      "  [ 67.6875  33.6875   9.6875]]\n",
      "\n",
      " ..., \n",
      " [[ 57.6875  27.6875   7.6875]\n",
      "  [ 53.6875  24.6875   5.6875]\n",
      "  [ 53.6875  25.6875   8.6875]\n",
      "  ..., \n",
      "  [ 59.6875  28.6875   5.6875]\n",
      "  [ 59.6875  26.6875   6.6875]\n",
      "  [ 62.6875  29.6875   8.6875]]\n",
      "\n",
      " [[ 56.6875  26.6875   6.6875]\n",
      "  [ 58.6875  24.6875   4.6875]\n",
      "  [ 56.6875  21.6875   3.6875]\n",
      "  ..., \n",
      "  [ 57.6875  25.6875   3.6875]\n",
      "  [ 55.6875  26.6875   7.6875]\n",
      "  [ 57.6875  29.6875   5.6875]]\n",
      "\n",
      " [[ 57.6875  25.6875   2.6875]\n",
      "  [ 55.6875  24.6875   0.6875]\n",
      "  [ 55.6875  25.6875  10.6875]\n",
      "  ..., \n",
      "  [ 57.6875  29.6875   6.6875]\n",
      "  [ 57.6875  28.6875   8.6875]\n",
      "  [ 61.6875  30.6875   4.6875]]]\n",
      "\n",
      "Image  1 : \n",
      "[[[-57.02701823 -66.02701823 -69.02701823]\n",
      "  [-38.02701823 -46.02701823 -64.02701823]\n",
      "  [-36.02701823 -47.02701823 -64.02701823]\n",
      "  ..., \n",
      "  [-49.02701823 -60.02701823 -63.02701823]\n",
      "  [-58.02701823 -60.02701823 -62.02701823]\n",
      "  [-54.02701823 -58.02701823 -58.02701823]]\n",
      "\n",
      " [[-60.02701823 -69.02701823 -70.02701823]\n",
      "  [-30.02701823 -43.02701823 -61.02701823]\n",
      "  [-32.02701823 -48.02701823 -66.02701823]\n",
      "  ..., \n",
      "  [-50.02701823 -61.02701823 -63.02701823]\n",
      "  [-31.02701823 -56.02701823 -57.02701823]\n",
      "  [-41.02701823 -59.02701823 -59.02701823]]\n",
      "\n",
      " [[-60.02701823 -70.02701823 -72.02701823]\n",
      "  [-34.02701823 -42.02701823 -60.02701823]\n",
      "  [-31.02701823 -45.02701823 -63.02701823]\n",
      "  ..., \n",
      "  [-55.02701823 -61.02701823 -61.02701823]\n",
      "  [-46.02701823 -58.02701823 -59.02701823]\n",
      "  [-48.02701823 -57.02701823 -58.02701823]]\n",
      "\n",
      " ..., \n",
      " [[-80.02701823 -81.02701823 -85.02701823]\n",
      "  [-46.02701823 -58.02701823 -68.02701823]\n",
      "  [-47.02701823 -61.02701823 -71.02701823]\n",
      "  ..., \n",
      "  [-59.02701823 -64.02701823 -64.02701823]\n",
      "  [-48.02701823 -61.02701823 -62.02701823]\n",
      "  [-51.02701823 -59.02701823 -60.02701823]]\n",
      "\n",
      " [[-79.02701823 -81.02701823 -83.02701823]\n",
      "  [-46.02701823 -59.02701823 -64.02701823]\n",
      "  [-49.02701823 -62.02701823 -70.02701823]\n",
      "  ..., \n",
      "  [-66.02701823 -67.02701823 -68.02701823]\n",
      "  [-60.02701823 -62.02701823 -62.02701823]\n",
      "  [-55.02701823 -60.02701823 -60.02701823]]\n",
      "\n",
      " [[-78.02701823 -83.02701823 -83.02701823]\n",
      "  [-47.02701823 -60.02701823 -64.02701823]\n",
      "  [-48.02701823 -61.02701823 -70.02701823]\n",
      "  ..., \n",
      "  [-65.02701823 -65.02701823 -69.02701823]\n",
      "  [-53.02701823 -56.02701823 -59.02701823]\n",
      "  [-52.02701823 -56.02701823 -56.02701823]]]\n",
      "\n",
      "Image  2 : \n",
      "[[[-26.79980469 -38.79980469 -40.79980469]\n",
      "  [-28.79980469 -39.79980469 -41.79980469]\n",
      "  [-29.79980469 -40.79980469 -41.79980469]\n",
      "  ..., \n",
      "  [-25.79980469 -31.79980469 -34.79980469]\n",
      "  [-24.79980469 -30.79980469 -33.79980469]\n",
      "  [-23.79980469 -30.79980469 -33.79980469]]\n",
      "\n",
      " [[-19.79980469 -33.79980469 -36.79980469]\n",
      "  [-19.79980469 -34.79980469 -37.79980469]\n",
      "  [-22.79980469 -34.79980469 -38.79980469]\n",
      "  ..., \n",
      "  [-26.79980469 -36.79980469 -36.79980469]\n",
      "  [-24.79980469 -33.79980469 -34.79980469]\n",
      "  [-22.79980469 -32.79980469 -33.79980469]]\n",
      "\n",
      " [[-11.79980469 -29.79980469 -34.79980469]\n",
      "  [-13.79980469 -28.79980469 -33.79980469]\n",
      "  [-12.79980469 -29.79980469 -33.79980469]\n",
      "  ..., \n",
      "  [-21.79980469 -37.79980469 -40.79980469]\n",
      "  [-23.79980469 -37.79980469 -39.79980469]\n",
      "  [-22.79980469 -35.79980469 -38.79980469]]\n",
      "\n",
      " ..., \n",
      " [[-50.79980469 -52.79980469 -54.79980469]\n",
      "  [-50.79980469 -51.79980469 -53.79980469]\n",
      "  [-48.79980469 -49.79980469 -51.79980469]\n",
      "  ..., \n",
      "  [-50.79980469 -53.79980469 -54.79980469]\n",
      "  [-50.79980469 -53.79980469 -54.79980469]\n",
      "  [-49.79980469 -51.79980469 -51.79980469]]\n",
      "\n",
      " [[-47.79980469 -49.79980469 -50.79980469]\n",
      "  [-41.79980469 -44.79980469 -46.79980469]\n",
      "  [-37.79980469 -40.79980469 -43.79980469]\n",
      "  ..., \n",
      "  [-45.79980469 -47.79980469 -50.79980469]\n",
      "  [-36.79980469 -38.79980469 -39.79980469]\n",
      "  [-30.79980469 -32.79980469 -33.79980469]]\n",
      "\n",
      " [[-47.79980469 -48.79980469 -49.79980469]\n",
      "  [-46.79980469 -51.79980469 -51.79980469]\n",
      "  [-34.79980469 -45.79980469 -46.79980469]\n",
      "  ..., \n",
      "  [-37.79980469 -38.79980469 -39.79980469]\n",
      "  [-34.79980469 -34.79980469 -35.79980469]\n",
      "  [-31.79980469 -32.79980469 -34.79980469]]]\n",
      "\n",
      "Image  3 : \n",
      "[[[ -10.72981771  -17.72981771  -56.72981771]\n",
      "  [ -46.72981771  -53.72981771  -84.72981771]\n",
      "  [ -68.72981771  -76.72981771 -114.72981771]\n",
      "  ..., \n",
      "  [ -44.72981771  -71.72981771 -108.72981771]\n",
      "  [ -23.72981771  -62.72981771 -100.72981771]\n",
      "  [  31.27018229  -17.72981771  -52.72981771]]\n",
      "\n",
      " [[ -79.72981771  -92.72981771 -113.72981771]\n",
      "  [ -79.72981771  -90.72981771 -110.72981771]\n",
      "  [ -79.72981771  -87.72981771 -114.72981771]\n",
      "  ..., \n",
      "  [ -52.72981771  -79.72981771 -108.72981771]\n",
      "  [  -6.72981771  -56.72981771  -88.72981771]\n",
      "  [  65.27018229   -1.72981771  -34.72981771]]\n",
      "\n",
      " [[ -77.72981771  -98.72981771 -110.72981771]\n",
      "  [ -74.72981771  -89.72981771  -99.72981771]\n",
      "  [ -80.72981771  -89.72981771 -106.72981771]\n",
      "  ..., \n",
      "  [ -43.72981771  -73.72981771  -95.72981771]\n",
      "  [  13.27018229  -50.72981771  -74.72981771]\n",
      "  [ 108.27018229   15.27018229  -12.72981771]]\n",
      "\n",
      " ..., \n",
      " [[ -41.72981771  -67.72981771 -118.72981771]\n",
      "  [ -36.72981771  -64.72981771 -110.72981771]\n",
      "  [ -28.72981771  -59.72981771 -103.72981771]\n",
      "  ..., \n",
      "  [  -0.72981771  -10.72981771  -61.72981771]\n",
      "  [  -2.72981771  -14.72981771  -60.72981771]\n",
      "  [  61.27018229   47.27018229  -28.72981771]]\n",
      "\n",
      " [[ -21.72981771  -71.72981771 -137.72981771]\n",
      "  [ -10.72981771  -55.72981771 -112.72981771]\n",
      "  [ -14.72981771  -53.72981771 -103.72981771]\n",
      "  ..., \n",
      "  [  39.27018229   35.27018229    1.27018229]\n",
      "  [  65.27018229   56.27018229   39.27018229]\n",
      "  [ 101.27018229   86.27018229   31.27018229]]\n",
      "\n",
      " [[  76.27018229    3.27018229  -46.72981771]\n",
      "  [  28.27018229  -32.72981771  -75.72981771]\n",
      "  [ -11.72981771  -59.72981771  -99.72981771]\n",
      "  ..., \n",
      "  [  96.27018229   91.27018229   57.27018229]\n",
      "  [ 109.27018229  109.27018229   79.27018229]\n",
      "  [ 109.27018229   94.27018229   32.27018229]]]\n",
      "\n",
      "Image  4 : \n",
      "[[[ -1.60104167e+01  -1.90104167e+01  -2.30104167e+01]\n",
      "  [ -1.10104167e+01  -1.50104167e+01  -2.10104167e+01]\n",
      "  [ -7.01041667e+00  -1.20104167e+01  -1.60104167e+01]\n",
      "  ..., \n",
      "  [  9.98958333e+00   2.98958333e+00  -3.01041667e+00]\n",
      "  [  5.98958333e+00   9.89583333e-01  -5.01041667e+00]\n",
      "  [  1.59895833e+01   4.98958333e+00  -3.01041667e+00]]\n",
      "\n",
      " [[ -1.80104167e+01  -2.10104167e+01  -2.40104167e+01]\n",
      "  [ -1.20104167e+01  -1.70104167e+01  -2.10104167e+01]\n",
      "  [ -1.40104167e+01  -1.60104167e+01  -2.00104167e+01]\n",
      "  ..., \n",
      "  [  2.98958333e+00  -2.01041667e+00  -8.01041667e+00]\n",
      "  [  9.98958333e+00   9.89583333e-01  -6.01041667e+00]\n",
      "  [  9.98958333e+00  -1.04166667e-02  -6.01041667e+00]]\n",
      "\n",
      " [[ -1.40104167e+01  -1.70104167e+01  -2.00104167e+01]\n",
      "  [ -1.40104167e+01  -1.80104167e+01  -2.00104167e+01]\n",
      "  [ -1.20104167e+01  -1.60104167e+01  -1.80104167e+01]\n",
      "  ..., \n",
      "  [ -1.04166667e-02  -6.01041667e+00  -1.10104167e+01]\n",
      "  [  1.19895833e+01   4.98958333e+00  -2.01041667e+00]\n",
      "  [  9.98958333e+00   3.98958333e+00  -5.01041667e+00]]\n",
      "\n",
      " ..., \n",
      " [[ -1.40104167e+01  -1.50104167e+01  -1.70104167e+01]\n",
      "  [ -1.70104167e+01  -1.70104167e+01  -2.00104167e+01]\n",
      "  [ -1.30104167e+01  -1.30104167e+01  -1.50104167e+01]\n",
      "  ..., \n",
      "  [ -9.01041667e+00  -1.10104167e+01  -1.60104167e+01]\n",
      "  [ -2.01041667e+00  -8.01041667e+00  -1.20104167e+01]\n",
      "  [  9.89583333e-01  -5.01041667e+00  -8.01041667e+00]]\n",
      "\n",
      " [[ -1.01041667e+00  -1.00104167e+01  -1.30104167e+01]\n",
      "  [ -4.01041667e+00  -1.10104167e+01  -1.60104167e+01]\n",
      "  [ -1.20104167e+01  -1.30104167e+01  -1.80104167e+01]\n",
      "  ..., \n",
      "  [ -1.00104167e+01  -1.30104167e+01  -1.70104167e+01]\n",
      "  [ -3.01041667e+00  -1.00104167e+01  -1.20104167e+01]\n",
      "  [ -1.01041667e+00  -8.01041667e+00  -1.00104167e+01]]\n",
      "\n",
      " [[ -8.01041667e+00  -1.40104167e+01  -1.90104167e+01]\n",
      "  [ -1.04166667e-02  -1.00104167e+01  -1.50104167e+01]\n",
      "  [ -5.01041667e+00  -1.10104167e+01  -1.60104167e+01]\n",
      "  ..., \n",
      "  [ -7.01041667e+00  -1.20104167e+01  -1.50104167e+01]\n",
      "  [ -5.01041667e+00  -1.00104167e+01  -1.30104167e+01]\n",
      "  [ -3.01041667e+00  -8.01041667e+00  -1.10104167e+01]]]\n",
      "\n",
      "Image  5 : \n",
      "[[[ -3.29632161e+01  -3.69632161e+01  -3.69632161e+01]\n",
      "  [ -3.39632161e+01  -3.79632161e+01  -3.89632161e+01]\n",
      "  [ -3.29632161e+01  -3.79632161e+01  -3.89632161e+01]\n",
      "  ..., \n",
      "  [ -1.09632161e+01  -1.79632161e+01  -2.09632161e+01]\n",
      "  [ -7.96321615e+00  -1.69632161e+01  -1.89632161e+01]\n",
      "  [ -5.96321615e+00  -1.69632161e+01  -1.69632161e+01]]\n",
      "\n",
      " [[ -3.39632161e+01  -3.79632161e+01  -3.79632161e+01]\n",
      "  [ -3.49632161e+01  -4.09632161e+01  -4.09632161e+01]\n",
      "  [ -3.49632161e+01  -4.09632161e+01  -4.09632161e+01]\n",
      "  ..., \n",
      "  [ -1.49632161e+01  -2.19632161e+01  -2.29632161e+01]\n",
      "  [ -1.59632161e+01  -2.19632161e+01  -2.29632161e+01]\n",
      "  [ -1.59632161e+01  -2.19632161e+01  -2.29632161e+01]]\n",
      "\n",
      " [[ -3.29632161e+01  -3.79632161e+01  -3.79632161e+01]\n",
      "  [ -3.29632161e+01  -3.89632161e+01  -3.89632161e+01]\n",
      "  [ -3.39632161e+01  -3.89632161e+01  -3.99632161e+01]\n",
      "  ..., \n",
      "  [ -1.49632161e+01  -2.59632161e+01  -2.59632161e+01]\n",
      "  [ -1.59632161e+01  -2.59632161e+01  -2.79632161e+01]\n",
      "  [ -1.69632161e+01  -2.69632161e+01  -2.89632161e+01]]\n",
      "\n",
      " ..., \n",
      " [[ -2.29632161e+01  -2.59632161e+01  -2.69632161e+01]\n",
      "  [ -3.19632161e+01  -3.49632161e+01  -3.49632161e+01]\n",
      "  [ -3.19632161e+01  -3.69632161e+01  -3.69632161e+01]\n",
      "  ..., \n",
      "  [ -1.89632161e+01  -2.79632161e+01  -2.89632161e+01]\n",
      "  [ -2.09632161e+01  -3.09632161e+01  -3.09632161e+01]\n",
      "  [ -2.19632161e+01  -3.19632161e+01  -3.29632161e+01]]\n",
      "\n",
      " [[ -1.79632161e+01  -2.29632161e+01  -2.39632161e+01]\n",
      "  [ -3.09632161e+01  -3.09632161e+01  -3.29632161e+01]\n",
      "  [ -3.29632161e+01  -3.69632161e+01  -3.79632161e+01]\n",
      "  ..., \n",
      "  [ -1.89632161e+01  -2.39632161e+01  -2.49632161e+01]\n",
      "  [ -2.19632161e+01  -2.79632161e+01  -2.79632161e+01]\n",
      "  [ -2.19632161e+01  -2.99632161e+01  -2.99632161e+01]]\n",
      "\n",
      " [[ -1.59632161e+01  -1.99632161e+01  -2.29632161e+01]\n",
      "  [ -2.99632161e+01  -3.09632161e+01  -3.29632161e+01]\n",
      "  [ -3.19632161e+01  -3.59632161e+01  -3.59632161e+01]\n",
      "  ..., \n",
      "  [  4.03678385e+00  -3.96321615e+00  -4.96321615e+00]\n",
      "  [  3.67838542e-02  -5.96321615e+00  -1.29632161e+01]\n",
      "  [ -2.39632161e+01  -2.79632161e+01  -2.89632161e+01]]]\n",
      "\n",
      "Image  6 : \n",
      "[[[  26.10058594   26.10058594   25.10058594]\n",
      "  [ -41.89941406  -51.89941406  -63.89941406]\n",
      "  [ -82.89941406  -99.89941406 -104.89941406]\n",
      "  ..., \n",
      "  [ 102.10058594  102.10058594  102.10058594]\n",
      "  [  99.10058594   99.10058594   98.10058594]\n",
      "  [  89.10058594   73.10058594   67.10058594]]\n",
      "\n",
      " [[ -89.89941406 -108.89941406 -110.89941406]\n",
      "  [ -24.89941406  -55.89941406  -60.89941406]\n",
      "  [  46.10058594   17.10058594   12.10058594]\n",
      "  ..., \n",
      "  [  96.10058594   93.10058594   81.10058594]\n",
      "  [  82.10058594   71.10058594   65.10058594]\n",
      "  [  63.10058594   47.10058594   42.10058594]]\n",
      "\n",
      " [[  77.10058594   62.10058594   56.10058594]\n",
      "  [ 102.10058594  102.10058594  102.10058594]\n",
      "  [ 102.10058594  102.10058594  102.10058594]\n",
      "  ..., \n",
      "  [   8.10058594  -27.89941406  -65.89941406]\n",
      "  [  -9.89941406  -42.89941406  -75.89941406]\n",
      "  [ -25.89941406  -64.89941406  -92.89941406]]\n",
      "\n",
      " ..., \n",
      " [[-103.89941406 -104.89941406 -109.89941406]\n",
      "  [-112.89941406 -113.89941406 -117.89941406]\n",
      "  [-115.89941406 -117.89941406 -120.89941406]\n",
      "  ..., \n",
      "  [ -57.89941406  -76.89941406  -94.89941406]\n",
      "  [ -72.89941406  -99.89941406 -120.89941406]\n",
      "  [ -86.89941406 -111.89941406 -125.89941406]]\n",
      "\n",
      " [[-105.89941406 -108.89941406 -112.89941406]\n",
      "  [-116.89941406 -117.89941406 -119.89941406]\n",
      "  [-121.89941406 -123.89941406 -124.89941406]\n",
      "  ..., \n",
      "  [ -83.89941406 -109.89941406 -129.89941406]\n",
      "  [ -82.89941406 -107.89941406 -125.89941406]\n",
      "  [ -80.89941406 -106.89941406 -122.89941406]]\n",
      "\n",
      " [[-108.89941406 -111.89941406 -115.89941406]\n",
      "  [-120.89941406 -122.89941406 -124.89941406]\n",
      "  [-130.89941406 -132.89941406 -133.89941406]\n",
      "  ..., \n",
      "  [ -81.89941406 -106.89941406 -124.89941406]\n",
      "  [ -84.89941406 -109.89941406 -125.89941406]\n",
      "  [ -79.89941406 -106.89941406 -123.89941406]]]\n",
      "\n"
     ]
    },
    {
     "name": "stdout",
     "output_type": "stream",
     "text": [
      "Image  7 : \n",
      "[[[  2.9000651  -3.0999349 -16.0999349]\n",
      "  [  0.9000651  -5.0999349 -18.0999349]\n",
      "  [  3.9000651  -1.0999349 -13.0999349]\n",
      "  ..., \n",
      "  [-24.0999349 -26.0999349 -29.0999349]\n",
      "  [-23.0999349 -25.0999349 -28.0999349]\n",
      "  [-26.0999349 -27.0999349 -31.0999349]]\n",
      "\n",
      " [[ -0.0999349 -11.0999349 -16.0999349]\n",
      "  [  0.9000651  -8.0999349 -15.0999349]\n",
      "  [ -3.0999349 -11.0999349 -19.0999349]\n",
      "  ..., \n",
      "  [-22.0999349 -25.0999349 -27.0999349]\n",
      "  [-24.0999349 -27.0999349 -28.0999349]\n",
      "  [-26.0999349 -28.0999349 -30.0999349]]\n",
      "\n",
      " [[-12.0999349 -21.0999349 -25.0999349]\n",
      "  [ -8.0999349 -16.0999349 -21.0999349]\n",
      "  [ -3.0999349  -9.0999349 -19.0999349]\n",
      "  ..., \n",
      "  [-27.0999349 -30.0999349 -32.0999349]\n",
      "  [-27.0999349 -29.0999349 -31.0999349]\n",
      "  [-27.0999349 -29.0999349 -31.0999349]]\n",
      "\n",
      " ..., \n",
      " [[-15.0999349 -23.0999349 -24.0999349]\n",
      "  [-15.0999349 -21.0999349 -23.0999349]\n",
      "  [-15.0999349 -19.0999349 -23.0999349]\n",
      "  ..., \n",
      "  [-33.0999349 -34.0999349 -34.0999349]\n",
      "  [-30.0999349 -30.0999349 -32.0999349]\n",
      "  [-29.0999349 -30.0999349 -30.0999349]]\n",
      "\n",
      " [[-13.0999349 -17.0999349 -20.0999349]\n",
      "  [-15.0999349 -19.0999349 -21.0999349]\n",
      "  [-16.0999349 -20.0999349 -23.0999349]\n",
      "  ..., \n",
      "  [-30.0999349 -32.0999349 -32.0999349]\n",
      "  [-29.0999349 -29.0999349 -31.0999349]\n",
      "  [-29.0999349 -30.0999349 -30.0999349]]\n",
      "\n",
      " [[-18.0999349 -18.0999349 -24.0999349]\n",
      "  [-19.0999349 -21.0999349 -24.0999349]\n",
      "  [-20.0999349 -24.0999349 -24.0999349]\n",
      "  ..., \n",
      "  [-30.0999349 -31.0999349 -31.0999349]\n",
      "  [-30.0999349 -30.0999349 -33.0999349]\n",
      "  [-31.0999349 -31.0999349 -33.0999349]]]\n",
      "\n",
      "Image  8 : \n",
      "[[[  47.86295573    1.86295573  -59.13704427]\n",
      "  [  84.86295573   32.86295573  -36.13704427]\n",
      "  [  47.86295573    3.86295573  -67.13704427]\n",
      "  ..., \n",
      "  [  32.86295573   20.86295573  -24.13704427]\n",
      "  [  -9.13704427  -32.13704427  -77.13704427]\n",
      "  [ -46.13704427  -72.13704427 -119.13704427]]\n",
      "\n",
      " [[  20.86295573   -5.13704427  -62.13704427]\n",
      "  [  33.86295573   13.86295573  -54.13704427]\n",
      "  [  35.86295573    3.86295573  -71.13704427]\n",
      "  ..., \n",
      "  [ -15.13704427  -36.13704427  -93.13704427]\n",
      "  [  15.86295573  -32.13704427  -85.13704427]\n",
      "  [ -45.13704427  -72.13704427 -118.13704427]]\n",
      "\n",
      " [[  57.86295573   14.86295573  -42.13704427]\n",
      "  [  66.86295573   27.86295573  -39.13704427]\n",
      "  [  55.86295573   11.86295573  -70.13704427]\n",
      "  ..., \n",
      "  [ -30.13704427  -49.13704427 -107.13704427]\n",
      "  [ -16.13704427  -44.13704427  -92.13704427]\n",
      "  [ -47.13704427  -66.13704427 -106.13704427]]\n",
      "\n",
      " ..., \n",
      " [[  38.86295573   21.86295573   16.86295573]\n",
      "  [  40.86295573   35.86295573    7.86295573]\n",
      "  [  14.86295573    5.86295573  -28.13704427]\n",
      "  ..., \n",
      "  [-112.13704427 -114.13704427 -120.13704427]\n",
      "  [-118.13704427 -122.13704427 -123.13704427]\n",
      "  [-117.13704427 -121.13704427 -122.13704427]]\n",
      "\n",
      " [[  45.86295573   36.86295573   24.86295573]\n",
      "  [  46.86295573   38.86295573    9.86295573]\n",
      "  [  21.86295573   11.86295573  -25.13704427]\n",
      "  ..., \n",
      "  [-114.13704427 -118.13704427 -119.13704427]\n",
      "  [-119.13704427 -123.13704427 -124.13704427]\n",
      "  [-116.13704427 -120.13704427 -122.13704427]]\n",
      "\n",
      " [[  29.86295573   25.86295573   11.86295573]\n",
      "  [  29.86295573   21.86295573   -3.13704427]\n",
      "  [  19.86295573    9.86295573  -31.13704427]\n",
      "  ..., \n",
      "  [-116.13704427 -119.13704427 -122.13704427]\n",
      "  [-119.13704427 -121.13704427 -122.13704427]\n",
      "  [-115.13704427 -115.13704427 -119.13704427]]]\n",
      "\n",
      "Image  9 : \n",
      "[[[-20.35970052 -23.35970052 -28.35970052]\n",
      "  [-20.35970052 -24.35970052 -28.35970052]\n",
      "  [-23.35970052 -27.35970052 -29.35970052]\n",
      "  ..., \n",
      "  [-36.35970052 -36.35970052 -38.35970052]\n",
      "  [-29.35970052 -31.35970052 -32.35970052]\n",
      "  [-29.35970052 -30.35970052 -33.35970052]]\n",
      "\n",
      " [[-42.35970052 -43.35970052 -43.35970052]\n",
      "  [-41.35970052 -42.35970052 -42.35970052]\n",
      "  [-44.35970052 -44.35970052 -44.35970052]\n",
      "  ..., \n",
      "  [-31.35970052 -33.35970052 -35.35970052]\n",
      "  [-34.35970052 -34.35970052 -38.35970052]\n",
      "  [-29.35970052 -31.35970052 -35.35970052]]\n",
      "\n",
      " [[-35.35970052 -36.35970052 -36.35970052]\n",
      "  [-34.35970052 -35.35970052 -36.35970052]\n",
      "  [-25.35970052 -30.35970052 -34.35970052]\n",
      "  ..., \n",
      "  [-21.35970052 -22.35970052 -25.35970052]\n",
      "  [-23.35970052 -26.35970052 -31.35970052]\n",
      "  [-33.35970052 -34.35970052 -37.35970052]]\n",
      "\n",
      " ..., \n",
      " [[-28.35970052 -29.35970052 -29.35970052]\n",
      "  [-20.35970052 -20.35970052 -21.35970052]\n",
      "  [-11.35970052 -11.35970052 -15.35970052]\n",
      "  ..., \n",
      "  [-31.35970052 -33.35970052 -33.35970052]\n",
      "  [-21.35970052 -22.35970052 -22.35970052]\n",
      "  [ -4.35970052  -5.35970052 -11.35970052]]\n",
      "\n",
      " [[-26.35970052 -29.35970052 -29.35970052]\n",
      "  [-21.35970052 -21.35970052 -21.35970052]\n",
      "  [-12.35970052 -14.35970052 -17.35970052]\n",
      "  ..., \n",
      "  [-30.35970052 -33.35970052 -33.35970052]\n",
      "  [-19.35970052 -20.35970052 -22.35970052]\n",
      "  [ -6.35970052  -6.35970052 -10.35970052]]\n",
      "\n",
      " [[-28.35970052 -29.35970052 -29.35970052]\n",
      "  [-23.35970052 -24.35970052 -25.35970052]\n",
      "  [-15.35970052 -16.35970052 -19.35970052]\n",
      "  ..., \n",
      "  [-32.35970052 -32.35970052 -32.35970052]\n",
      "  [-23.35970052 -23.35970052 -25.35970052]\n",
      "  [-11.35970052 -12.35970052 -14.35970052]]]\n",
      "\n",
      "Print top_k data OK\n"
     ]
    }
   ],
   "source": [
    "### Print out the top five softmax probabilities for the predictions on the German traffic sign images found on the web. \n",
    "### Feel free to use as many code cells as needed.\n",
    "print('Print top_k data')\n",
    "\n",
    "i =0\n",
    "with tf.Session() as sess:\n",
    "    for x in X_german:\n",
    "        topkv2 = sess.run(tf.nn.top_k(tf.constant(x), k=3))\n",
    "        print('Image ', i, ': ')\n",
    "        print(topkv2.values)\n",
    "        i+=1\n",
    "        print()\n",
    "\n",
    "print('Print top_k data OK')"
   ]
  },
  {
   "cell_type": "code",
   "execution_count": 17,
   "metadata": {},
   "outputs": [
    {
     "name": "stdout",
     "output_type": "stream",
     "text": [
      "Print Images\n",
      "Print Images OK\n"
     ]
    },
    {
     "data": {
      "image/png": "[encoded data removed]",
      "text/plain": [
       "<matplotlib.figure.Figure at 0x7fa2840e7438>"
      ]
     },
     "metadata": {},
     "output_type": "display_data"
    },
    {
     "data": {
      "image/png": "[encoded data removed]",
      "text/plain": [
       "<matplotlib.figure.Figure at 0x7fa28421dc88>"
      ]
     },
     "metadata": {},
     "output_type": "display_data"
    },
    {
     "data": {
      "image/png": "[encoded data removed]",
      "text/plain": [
       "<matplotlib.figure.Figure at 0x7fa284269080>"
      ]
     },
     "metadata": {},
     "output_type": "display_data"
    },
    {
     "data": {
      "image/png": "[encoded data removed]",
      "text/plain": [
       "<matplotlib.figure.Figure at 0x7fa2841d8080>"
      ]
     },
     "metadata": {},
     "output_type": "display_data"
    },
    {
     "data": {
      "image/png": "[encoded data removed]",
      "text/plain": [
       "<matplotlib.figure.Figure at 0x7fa26ced63c8>"
      ]
     },
     "metadata": {},
     "output_type": "display_data"
    },
    {
     "data": {
      "image/png": "[encoded data removed]",
      "text/plain": [
       "<matplotlib.figure.Figure at 0x7fa284127cf8>"
      ]
     },
     "metadata": {},
     "output_type": "display_data"
    },
    {
     "data": {
      "image/png": "[encoded data removed]",
      "text/plain": [
       "<matplotlib.figure.Figure at 0x7fa284216c18>"
      ]
     },
     "metadata": {},
     "output_type": "display_data"
    },
    {
     "data": {
      "image/png": "[encoded data removed]",
      "text/plain": [
       "<matplotlib.figure.Figure at 0x7fa2841ab390>"
      ]
     },
     "metadata": {},
     "output_type": "display_data"
    },
    {
     "data": {
      "image/png": "[encoded data removed]",
      "text/plain": [
       "<matplotlib.figure.Figure at 0x7fa2841e18d0>"
      ]
     },
     "metadata": {},
     "output_type": "display_data"
    },
    {
     "data": {
      "image/png": "[encoded data removed]",
      "text/plain": [
       "<matplotlib.figure.Figure at 0x7fa2842a76a0>"
      ]
     },
     "metadata": {},
     "output_type": "display_data"
    }
   ],
   "source": [
    "print('Print Images')\n",
    "\n",
    "with tf.Session() as sess:\n",
    "    for x in X_german:\n",
    "        topkv2 = sess.run(tf.nn.top_k(tf.constant(x), k=3))\n",
    "        plt.figure(figsize=(2,2))\n",
    "        plt.imshow(topkv2.values)\n",
    "\n",
    "print('Print Images OK')"
   ]
  },
  {
   "cell_type": "markdown",
   "metadata": {},
   "source": [
    "### Project Writeup\n",
    "\n",
    "Once you have completed the code implementation, document your results in a project writeup using this [template](https://github.com/udacity/CarND-Traffic-Sign-Classifier-Project/blob/master/writeup_template.md) as a guide. The writeup can be in a markdown or pdf file. "
   ]
  },
  {
   "cell_type": "markdown",
   "metadata": {},
   "source": [
    "> **Note**: Once you have completed all of the code implementations and successfully answered each question above, you may finalize your work by exporting the iPython Notebook as an HTML document. You can do this by using the menu above and navigating to  \\n\",\n",
    "    \"**File -> Download as -> HTML (.html)**. Include the finished document along with this notebook as your submission."
   ]
  },
  {
   "cell_type": "markdown",
   "metadata": {},
   "source": [
    "---\n",
    "\n",
    "## Step 4 (Optional): Visualize the Neural Network's State with Test Images\n",
    "\n",
    " This Section is not required to complete but acts as an additional excersise for understaning the output of a neural network's weights. While neural networks can be a great learning device they are often referred to as a black box. We can understand what the weights of a neural network look like better by plotting their feature maps. After successfully training your neural network you can see what it's feature maps look like by plotting the output of the network's weight layers in response to a test stimuli image. From these plotted feature maps, it's possible to see what characteristics of an image the network finds interesting. For a sign, maybe the inner network feature maps react with high activation to the sign's boundary outline or to the contrast in the sign's painted symbol.\n",
    "\n",
    " Provided for you below is the function code that allows you to get the visualization output of any tensorflow weight layer you want. The inputs to the function should be a stimuli image, one used during training or a new one you provided, and then the tensorflow variable name that represents the layer's state during the training process, for instance if you wanted to see what the [LeNet lab's](https://classroom.udacity.com/nanodegrees/nd013/parts/fbf77062-5703-404e-b60c-95b78b2f3f9e/modules/6df7ae49-c61c-4bb2-a23e-6527e69209ec/lessons/601ae704-1035-4287-8b11-e2c2716217ad/concepts/d4aca031-508f-4e0b-b493-e7b706120f81) feature maps looked like for it's second convolutional layer you could enter conv2 as the tf_activation variable.\n",
    "\n",
    "For an example of what feature map outputs look like, check out NVIDIA's results in their paper [End-to-End Deep Learning for Self-Driving Cars](https://devblogs.nvidia.com/parallelforall/deep-learning-self-driving-cars/) in the section Visualization of internal CNN State. NVIDIA was able to show that their network's inner weights had high activations to road boundary lines by comparing feature maps from an image with a clear path to one without. Try experimenting with a similar test to show that your trained network's weights are looking for interesting features, whether it's looking at differences in feature maps from images with or without a sign, or even what feature maps look like in a trained network vs a completely untrained one on the same sign image.\n",
    "\n",
    "<figure>\n",
    " <img src=\"visualize_cnn.png\" width=\"380\" alt=\"Combined Image\" />\n",
    " <figcaption>\n",
    " <p></p> \n",
    " <p style=\"text-align: center;\"> Your output should look something like this (above)</p> \n",
    " </figcaption>\n",
    "</figure>\n",
    " <p></p> \n"
   ]
  },
  {
   "cell_type": "code",
   "execution_count": 18,
   "metadata": {
    "collapsed": true
   },
   "outputs": [],
   "source": [
    "### Visualize your network's feature maps here.\n",
    "### Feel free to use as many code cells as needed.\n",
    "\n",
    "# image_input: the test image being fed into the network to produce the feature maps\n",
    "# tf_activation: should be a tf variable name used during your training procedure that represents the calculated state of a specific weight layer\n",
    "# activation_min/max: can be used to view the activation contrast in more detail, by default matplot sets min and max to the actual min and max values of the output\n",
    "# plt_num: used to plot out multiple different weight feature map sets on the same block, just extend the plt number for each new feature map entry\n",
    "\n",
    "def outputFeatureMap(image_input, tf_activation, activation_min=-1, activation_max=-1 ,plt_num=1):\n",
    "    # Here make sure to preprocess your image_input in a way your network expects\n",
    "    # with size, normalization, ect if needed\n",
    "    # image_input =\n",
    "    # Note: x should be the same name as your network's tensorflow data placeholder variable\n",
    "    # If you get an error tf_activation is not defined it may be having trouble accessing the variable from inside a function\n",
    "    activation = tf_activation.eval(session=sess,feed_dict={x : image_input})\n",
    "    featuremaps = activation.shape[3]\n",
    "    plt.figure(plt_num, figsize=(15,15))\n",
    "    for featuremap in range(featuremaps):\n",
    "        plt.subplot(6,8, featuremap+1) # sets the number of feature maps to show on each row and column\n",
    "        plt.title('FeatureMap ' + str(featuremap)) # displays the feature map number\n",
    "        if activation_min != -1 & activation_max != -1:\n",
    "            plt.imshow(activation[0,:,:, featuremap], interpolation=\"nearest\", vmin =activation_min, vmax=activation_max, cmap=\"gray\")\n",
    "        elif activation_max != -1:\n",
    "            plt.imshow(activation[0,:,:, featuremap], interpolation=\"nearest\", vmax=activation_max, cmap=\"gray\")\n",
    "        elif activation_min !=-1:\n",
    "            plt.imshow(activation[0,:,:, featuremap], interpolation=\"nearest\", vmin=activation_min, cmap=\"gray\")\n",
    "        else:\n",
    "            plt.imshow(activation[0,:,:, featuremap], interpolation=\"nearest\", cmap=\"gray\")"
   ]
  }
 ],
 "metadata": {
  "anaconda-cloud": {},
  "kernelspec": {
   "display_name": "Python 3",
   "language": "python",
   "name": "python3"
  },
  "language_info": {
   "codemirror_mode": {
    "name": "ipython",
    "version": 3
   },
   "file_extension": ".py",
   "mimetype": "text/x-python",
   "name": "python",
   "nbconvert_exporter": "python",
   "pygments_lexer": "ipython3",
   "version": "3.5.2"
  },
  "widgets": {
   "state": {},
   "version": "1.1.2"
  }
 },
 "nbformat": 4,
 "nbformat_minor": 1
}
